{
 "cells": [
  {
   "cell_type": "code",
   "execution_count": 1,
   "metadata": {},
   "outputs": [],
   "source": [
    "import numpy as np"
   ]
  },
  {
   "cell_type": "code",
   "execution_count": 2,
   "metadata": {},
   "outputs": [
    {
     "name": "stdout",
     "output_type": "stream",
     "text": [
      "[3, 2, 1, 1, 0, 0, 0]\n",
      "跑完了，有解吗？\n"
     ]
    }
   ],
   "source": [
    "d = [0,1,2,3,4,5,6]\n",
    "for d0 in d:\n",
    "    for d1 in d:\n",
    "        for d2 in d:\n",
    "            for d3 in d:\n",
    "                for d4 in d:\n",
    "                    for d5 in d:\n",
    "                        for d6 in d: \n",
    "                            seq = [d0,d1,d2,d3,d4,d5,d6]\n",
    "                            seq_unique, counts = np.unique(seq, return_counts=True)\n",
    "                            feasible_flag = True\n",
    "                            for i,val in enumerate(seq):\n",
    "                                if i in seq_unique:\n",
    "                                    if val != counts[seq_unique.tolist().index(i)]: \n",
    "                                        feasible_flag = False\n",
    "                                elif val != 0: \n",
    "                                    feasible_flag = False\n",
    "                            if feasible_flag == True: \n",
    "                                print(seq)\n",
    "                            \n",
    "print(\"跑完了，有解吗？\")"
   ]
  },
  {
   "cell_type": "code",
   "execution_count": 3,
   "metadata": {},
   "outputs": [
    {
     "name": "stdout",
     "output_type": "stream",
     "text": [
      "跑完了，有解吗？\n"
     ]
    }
   ],
   "source": [
    "d = [0,1,2,3,4,5]\n",
    "for d0 in d:\n",
    "    for d1 in d:\n",
    "        for d2 in d:\n",
    "            for d3 in d:\n",
    "                for d4 in d:\n",
    "                    for d5 in d:\n",
    "                        seq = [d0,d1,d2,d3,d4,d5]\n",
    "                        seq_unique, counts = np.unique(seq, return_counts=True)\n",
    "                        feasible_flag = True\n",
    "                        for i,val in enumerate(seq):\n",
    "                            if i in seq_unique:\n",
    "                                if val != counts[seq_unique.tolist().index(i)]: \n",
    "                                    feasible_flag = False\n",
    "                            elif val != 0: \n",
    "                                feasible_flag = False\n",
    "                        if feasible_flag == True: \n",
    "                            print(seq)\n",
    "                            \n",
    "print(\"跑完了，有解吗？\")"
   ]
  },
  {
   "cell_type": "code",
   "execution_count": 4,
   "metadata": {},
   "outputs": [
    {
     "name": "stdout",
     "output_type": "stream",
     "text": [
      "[2, 1, 2, 0, 0]\n",
      "跑完了，有解吗？\n"
     ]
    }
   ],
   "source": [
    "d = [0,1,2,3,4]\n",
    "for d0 in d:\n",
    "    for d1 in d:\n",
    "        for d2 in d:\n",
    "            for d3 in d:\n",
    "                for d4 in d:\n",
    "                    seq = [d0,d1,d2,d3,d4]\n",
    "                    seq_unique, counts = np.unique(seq, return_counts=True)\n",
    "                    feasible_flag = True\n",
    "                    for i,val in enumerate(seq):\n",
    "                        if i in seq_unique:\n",
    "                            if val != counts[seq_unique.tolist().index(i)]: \n",
    "                                feasible_flag = False\n",
    "                        elif val != 0: \n",
    "                            feasible_flag = False\n",
    "                    if feasible_flag == True: \n",
    "                        print(seq)\n",
    "                            \n",
    "print(\"跑完了，有解吗？\")"
   ]
  },
  {
   "cell_type": "code",
   "execution_count": 5,
   "metadata": {},
   "outputs": [
    {
     "name": "stdout",
     "output_type": "stream",
     "text": [
      "[1, 2, 1, 0]\n",
      "[2, 0, 2, 0]\n",
      "跑完了，有解吗？\n"
     ]
    }
   ],
   "source": [
    "d = [0,1,2,3]\n",
    "for d0 in d:\n",
    "    for d1 in d:\n",
    "        for d2 in d:\n",
    "            for d3 in d:\n",
    "                seq = [d0,d1,d2,d3]\n",
    "                seq_unique, counts = np.unique(seq, return_counts=True)\n",
    "                feasible_flag = True\n",
    "                for i,val in enumerate(seq):\n",
    "                    if i in seq_unique:\n",
    "                        if val != counts[seq_unique.tolist().index(i)]: \n",
    "                            feasible_flag = False\n",
    "                    elif val != 0: \n",
    "                        feasible_flag = False\n",
    "                if feasible_flag == True: \n",
    "                    print(seq)\n",
    "                            \n",
    "print(\"跑完了，有解吗？\")"
   ]
  }
 ],
 "metadata": {
  "kernelspec": {
   "display_name": "Python 3",
   "language": "python",
   "name": "python3"
  },
  "language_info": {
   "codemirror_mode": {
    "name": "ipython",
    "version": 3
   },
   "file_extension": ".py",
   "mimetype": "text/x-python",
   "name": "python",
   "nbconvert_exporter": "python",
   "pygments_lexer": "ipython3",
   "version": "3.10.11"
  }
 },
 "nbformat": 4,
 "nbformat_minor": 2
}
